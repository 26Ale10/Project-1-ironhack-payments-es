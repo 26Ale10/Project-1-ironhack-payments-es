{
 "cells": [
  {
   "cell_type": "code",
   "execution_count": 4,
   "id": "2729cb9d-8c92-41f5-ae5a-4c9d81d1be86",
   "metadata": {},
   "outputs": [],
   "source": [
    "import pandas as pd\n",
    "import numpy as np\n",
    "import seaborn as sns\n",
    "cash =  pd.read_csv('./project_dataset/cash_request.csv')\n",
    "fees =  pd.read_csv('./project_dataset/fees_data.csv')"
   ]
  },
  {
   "cell_type": "code",
   "execution_count": 5,
   "id": "6b09dcad-47c1-4f8f-92fc-61cfa18a73f7",
   "metadata": {},
   "outputs": [],
   "source": [
    "cash['created_at'] = pd.to_datetime(cash['created_at'])\n",
    "cash['updated_at'] = pd.to_datetime(cash['updated_at'])\n",
    "cash['moderated_at'] = pd.to_datetime(cash['moderated_at'],unit='ns')\n",
    "cash['reimbursement_date'] = pd.to_datetime(cash['reimbursement_date'],unit='ns')\n",
    "cash['cash_request_received_date'] = pd.to_datetime(cash['cash_request_received_date'],unit='ns')\n",
    "cash['money_back_date'] = pd.to_datetime(cash['money_back_date'],unit='ns')\n",
    "cash['send_at'] = pd.to_datetime(cash['send_at'],unit='ns')\n",
    "cash['reco_creation'] = pd.to_datetime(cash['reco_creation'],unit='ns')\n",
    "cash['reco_last_update'] = pd.to_datetime(cash['reco_last_update'],unit='ns')"
   ]
  },
  {
   "cell_type": "code",
   "execution_count": 9,
   "id": "9a60fb1a-b148-4d87-9b04-cd0bfc9510d5",
   "metadata": {},
   "outputs": [],
   "source": [
    "fees['created_at'] = pd.to_datetime(fees['created_at'])\n",
    "fees['updated_at'] = pd.to_datetime(fees['updated_at'])\n",
    "fees['paid_at'] = pd.to_datetime(fees['paid_at'],unit='ns')\n",
    "fees['from_date'] = pd.to_datetime(fees['from_date'],unit='ns')\n",
    "fees['to_date'] = pd.to_datetime(fees['to_date'],unit='ns')"
   ]
  },
  {
   "cell_type": "code",
   "execution_count": null,
   "id": "d38f027f-5b12-4f6d-8b57-0c8fc9990fbf",
   "metadata": {},
   "outputs": [],
   "source": []
  },
  {
   "cell_type": "code",
   "execution_count": null,
   "id": "401eb885-a6ab-4eff-b42b-a9be435119fa",
   "metadata": {},
   "outputs": [],
   "source": []
  }
 ],
 "metadata": {
  "kernelspec": {
   "display_name": "Python 3 (ipykernel)",
   "language": "python",
   "name": "python3"
  },
  "language_info": {
   "codemirror_mode": {
    "name": "ipython",
    "version": 3
   },
   "file_extension": ".py",
   "mimetype": "text/x-python",
   "name": "python",
   "nbconvert_exporter": "python",
   "pygments_lexer": "ipython3",
   "version": "3.10.12"
  }
 },
 "nbformat": 4,
 "nbformat_minor": 5
}
