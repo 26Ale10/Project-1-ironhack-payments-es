{
 "cells": [
  {
   "cell_type": "code",
   "execution_count": 2,
   "id": "2729cb9d-8c92-41f5-ae5a-4c9d81d1be86",
   "metadata": {},
   "outputs": [
    {
     "name": "stdout",
     "output_type": "stream",
     "text": [
      "<class 'pandas.core.frame.DataFrame'>\n",
      "RangeIndex: 23970 entries, 0 to 23969\n",
      "Data columns (total 16 columns):\n",
      " #   Column                      Non-Null Count  Dtype  \n",
      "---  ------                      --------------  -----  \n",
      " 0   cash_request_id             23970 non-null  int64  \n",
      " 1   amount                      23970 non-null  float64\n",
      " 2   status                      23970 non-null  object \n",
      " 3   created_at                  23970 non-null  object \n",
      " 4   updated_at                  23970 non-null  object \n",
      " 5   user_id                     21867 non-null  float64\n",
      " 6   moderated_at                16035 non-null  object \n",
      " 7   deleted_account_id          2104 non-null   float64\n",
      " 8   reimbursement_date          23970 non-null  object \n",
      " 9   cash_request_received_date  16289 non-null  object \n",
      " 10  money_back_date             16543 non-null  object \n",
      " 11  transfer_type               23970 non-null  object \n",
      " 12  send_at                     16641 non-null  object \n",
      " 13  recovery_status             3330 non-null   object \n",
      " 14  reco_creation               3330 non-null   object \n",
      " 15  reco_last_update            3330 non-null   object \n",
      "dtypes: float64(3), int64(1), object(12)\n",
      "memory usage: 2.9+ MB\n",
      "None\n",
      "<class 'pandas.core.frame.DataFrame'>\n",
      "RangeIndex: 21061 entries, 0 to 21060\n",
      "Data columns (total 13 columns):\n",
      " #   Column           Non-Null Count  Dtype  \n",
      "---  ------           --------------  -----  \n",
      " 0   id               21061 non-null  int64  \n",
      " 1   cash_request_id  21057 non-null  float64\n",
      " 2   type             21061 non-null  object \n",
      " 3   status           21061 non-null  object \n",
      " 4   category         2196 non-null   object \n",
      " 5   total_amount     21061 non-null  float64\n",
      " 6   reason           21061 non-null  object \n",
      " 7   created_at       21061 non-null  object \n",
      " 8   updated_at       21061 non-null  object \n",
      " 9   paid_at          15531 non-null  object \n",
      " 10  from_date        7766 non-null   object \n",
      " 11  to_date          7766 non-null   object \n",
      " 12  charge_moment    21061 non-null  object \n",
      "dtypes: float64(2), int64(1), object(10)\n",
      "memory usage: 2.1+ MB\n",
      "None\n"
     ]
    }
   ],
   "source": [
    "import pandas as pd\n",
    "import numpy as np\n",
    "import seaborn as sns\n",
    "cash =  pd.read_csv('../project_dataset/cash_request.csv')\n",
    "cash.rename(columns={'id': 'cash_request_id'}, inplace=True)\n",
    "print(cash.info())\n",
    "fees =  pd.read_csv('../project_dataset/fees_data.csv')\n",
    "print(fees.info())"
   ]
  },
  {
   "cell_type": "code",
   "execution_count": 3,
   "id": "6b09dcad-47c1-4f8f-92fc-61cfa18a73f7",
   "metadata": {},
   "outputs": [],
   "source": [
    "cash['created_at'] = pd.to_datetime(cash['created_at'])\n",
    "cash['updated_at'] = pd.to_datetime(cash['updated_at'])\n",
    "cash['moderated_at'] = pd.to_datetime(cash['moderated_at'],unit='ns')\n",
    "cash['reimbursement_date'] = pd.to_datetime(cash['reimbursement_date'],unit='ns')\n",
    "cash['cash_request_received_date'] = pd.to_datetime(cash['cash_request_received_date'],unit='ns')\n",
    "cash['money_back_date'] = pd.to_datetime(cash['money_back_date'],unit='ns')\n",
    "cash['send_at'] = pd.to_datetime(cash['send_at'],unit='ns')\n",
    "cash['reco_creation'] = pd.to_datetime(cash['reco_creation'],unit='ns')\n",
    "cash['reco_last_update'] = pd.to_datetime(cash['reco_last_update'],unit='ns')"
   ]
  },
  {
   "cell_type": "code",
   "execution_count": 4,
   "id": "9a60fb1a-b148-4d87-9b04-cd0bfc9510d5",
   "metadata": {},
   "outputs": [],
   "source": [
    "fees['created_at'] = pd.to_datetime(fees['created_at'])\n",
    "fees['updated_at'] = pd.to_datetime(fees['updated_at'])\n",
    "fees['paid_at'] = pd.to_datetime(fees['paid_at'],unit='ns')\n",
    "fees['from_date'] = pd.to_datetime(fees['from_date'],unit='ns')\n",
    "fees['to_date'] = pd.to_datetime(fees['to_date'],unit='ns')"
   ]
  },
  {
   "cell_type": "code",
   "execution_count": 5,
   "id": "d38f027f-5b12-4f6d-8b57-0c8fc9990fbf",
   "metadata": {},
   "outputs": [],
   "source": [
    "merged = pd.merge(cash, fees, on='cash_request_id', how='left', suffixes=('_cash', '_fees'))"
   ]
  },
  {
   "cell_type": "code",
   "execution_count": 6,
   "id": "9cfb99de-1e6b-4dc8-87e8-f8c22f32d818",
   "metadata": {},
   "outputs": [
    {
     "name": "stdout",
     "output_type": "stream",
     "text": [
      "<class 'pandas.core.frame.DataFrame'>\n",
      "RangeIndex: 32094 entries, 0 to 32093\n",
      "Data columns (total 28 columns):\n",
      " #   Column                      Non-Null Count  Dtype              \n",
      "---  ------                      --------------  -----              \n",
      " 0   cash_request_id             32094 non-null  int64              \n",
      " 1   amount                      32094 non-null  float64            \n",
      " 2   status_cash                 32094 non-null  object             \n",
      " 3   created_at_cash             32094 non-null  datetime64[ns, UTC]\n",
      " 4   updated_at_cash             32094 non-null  datetime64[ns, UTC]\n",
      " 5   user_id                     29522 non-null  float64            \n",
      " 6   moderated_at                21759 non-null  datetime64[ns, UTC]\n",
      " 7   deleted_account_id          2573 non-null   float64            \n",
      " 8   reimbursement_date          32094 non-null  datetime64[ns, UTC]\n",
      " 9   cash_request_received_date  24149 non-null  datetime64[ns]     \n",
      " 10  money_back_date             23917 non-null  datetime64[ns, UTC]\n",
      " 11  transfer_type               32094 non-null  object             \n",
      " 12  send_at                     22678 non-null  datetime64[ns, UTC]\n",
      " 13  recovery_status             7200 non-null   object             \n",
      " 14  reco_creation               7200 non-null   datetime64[ns, UTC]\n",
      " 15  reco_last_update            7200 non-null   datetime64[ns, UTC]\n",
      " 16  id                          21057 non-null  float64            \n",
      " 17  type                        21057 non-null  object             \n",
      " 18  status_fees                 21057 non-null  object             \n",
      " 19  category                    2196 non-null   object             \n",
      " 20  total_amount                21057 non-null  float64            \n",
      " 21  reason                      21057 non-null  object             \n",
      " 22  created_at_fees             21057 non-null  datetime64[ns, UTC]\n",
      " 23  updated_at_fees             21057 non-null  datetime64[ns, UTC]\n",
      " 24  paid_at                     15531 non-null  datetime64[ns, UTC]\n",
      " 25  from_date                   7766 non-null   datetime64[ns, UTC]\n",
      " 26  to_date                     7766 non-null   datetime64[ns, UTC]\n",
      " 27  charge_moment               21057 non-null  object             \n",
      "dtypes: datetime64[ns, UTC](13), datetime64[ns](1), float64(5), int64(1), object(8)\n",
      "memory usage: 6.9+ MB\n"
     ]
    }
   ],
   "source": [
    "merged.info()"
   ]
  },
  {
   "cell_type": "code",
   "execution_count": 7,
   "id": "fe8afbcd-f19b-4939-af81-b54a04cff9c4",
   "metadata": {},
   "outputs": [],
   "source": [
    "merged = pd.merge(cash, fees, on='cash_request_id', how='inner', suffixes=('_cash', '_fees'))"
   ]
  },
  {
   "cell_type": "code",
   "execution_count": 8,
   "id": "d24473b9-6907-4607-b2a0-d3a8fe3d753e",
   "metadata": {},
   "outputs": [
    {
     "data": {
      "text/plain": [
       "array(['accepted', 'cancelled', 'rejected', 'confirmed'], dtype=object)"
      ]
     },
     "execution_count": 8,
     "metadata": {},
     "output_type": "execute_result"
    }
   ],
   "source": [
    "merged[\"status_fees\"].unique()"
   ]
  },
  {
   "cell_type": "code",
   "execution_count": 9,
   "id": "4377c2e8-65bb-475f-929d-d603abd4a5b0",
   "metadata": {},
   "outputs": [
    {
     "data": {
      "text/plain": [
       "array(['money_back', 'active', 'direct_debit_rejected',\n",
       "       'transaction_declined', 'direct_debit_sent', 'canceled'],\n",
       "      dtype=object)"
      ]
     },
     "execution_count": 9,
     "metadata": {},
     "output_type": "execute_result"
    }
   ],
   "source": [
    "merged[\"status_cash\"].unique()"
   ]
  },
  {
   "cell_type": "code",
   "execution_count": 10,
   "id": "73a848d9-66bd-43c8-ad25-88ef9cb27881",
   "metadata": {},
   "outputs": [
    {
     "data": {
      "text/plain": [
       "array(['rejected', 'money_back', 'canceled', 'active',\n",
       "       'direct_debit_rejected', 'transaction_declined',\n",
       "       'direct_debit_sent'], dtype=object)"
      ]
     },
     "execution_count": 10,
     "metadata": {},
     "output_type": "execute_result"
    }
   ],
   "source": [
    "cash[\"status\"].unique()"
   ]
  },
  {
   "cell_type": "code",
   "execution_count": 11,
   "id": "37eb126c-b84a-4751-b62e-ea200038fb9f",
   "metadata": {},
   "outputs": [
    {
     "data": {
      "text/plain": [
       "array(['rejected', 'accepted', 'cancelled', 'confirmed'], dtype=object)"
      ]
     },
     "execution_count": 11,
     "metadata": {},
     "output_type": "execute_result"
    }
   ],
   "source": [
    "fees[\"status\"].unique()"
   ]
  },
  {
   "cell_type": "code",
   "execution_count": 13,
   "id": "83613531-e3bc-4a53-9467-8afb5ad6b47a",
   "metadata": {},
   "outputs": [],
   "source": [
    "outer_join =  cash.join(fees.set_index('id'), on='cash_request_id', how='outer', lsuffix='_cash', rsuffix='_fees')"
   ]
  },
  {
   "cell_type": "code",
   "execution_count": 14,
   "id": "57cf02eb-cb6f-4b56-8bf4-645256e36441",
   "metadata": {},
   "outputs": [
    {
     "name": "stdout",
     "output_type": "stream",
     "text": [
      "<class 'pandas.core.frame.DataFrame'>\n",
      "Index: 26598 entries, nan to 15685.0\n",
      "Data columns (total 29 columns):\n",
      " #   Column                      Non-Null Count  Dtype              \n",
      "---  ------                      --------------  -----              \n",
      " 0   cash_request_id             26598 non-null  int64              \n",
      " 1   cash_request_id_cash        23970 non-null  float64            \n",
      " 2   amount                      23970 non-null  float64            \n",
      " 3   status_cash                 23970 non-null  object             \n",
      " 4   created_at_cash             23970 non-null  datetime64[ns, UTC]\n",
      " 5   updated_at_cash             23970 non-null  datetime64[ns, UTC]\n",
      " 6   user_id                     21867 non-null  float64            \n",
      " 7   moderated_at                16035 non-null  datetime64[ns, UTC]\n",
      " 8   deleted_account_id          2104 non-null   float64            \n",
      " 9   reimbursement_date          23970 non-null  datetime64[ns, UTC]\n",
      " 10  cash_request_received_date  16289 non-null  datetime64[ns]     \n",
      " 11  money_back_date             16543 non-null  datetime64[ns, UTC]\n",
      " 12  transfer_type               23970 non-null  object             \n",
      " 13  send_at                     16641 non-null  datetime64[ns, UTC]\n",
      " 14  recovery_status             3330 non-null   object             \n",
      " 15  reco_creation               3330 non-null   datetime64[ns, UTC]\n",
      " 16  reco_last_update            3330 non-null   datetime64[ns, UTC]\n",
      " 17  cash_request_id_fees        21057 non-null  float64            \n",
      " 18  type                        21061 non-null  object             \n",
      " 19  status_fees                 21061 non-null  object             \n",
      " 20  category                    2196 non-null   object             \n",
      " 21  total_amount                21061 non-null  float64            \n",
      " 22  reason                      21061 non-null  object             \n",
      " 23  created_at_fees             21061 non-null  datetime64[ns, UTC]\n",
      " 24  updated_at_fees             21061 non-null  datetime64[ns, UTC]\n",
      " 25  paid_at                     15531 non-null  datetime64[ns, UTC]\n",
      " 26  from_date                   7766 non-null   datetime64[ns, UTC]\n",
      " 27  to_date                     7766 non-null   datetime64[ns, UTC]\n",
      " 28  charge_moment               21061 non-null  object             \n",
      "dtypes: datetime64[ns, UTC](13), datetime64[ns](1), float64(6), int64(1), object(8)\n",
      "memory usage: 6.1+ MB\n"
     ]
    }
   ],
   "source": [
    "outer_join.info()"
   ]
  },
  {
   "cell_type": "code",
   "execution_count": null,
   "id": "ec08aa2c-bf51-4e04-9609-2847d6623424",
   "metadata": {},
   "outputs": [],
   "source": []
  }
 ],
 "metadata": {
  "kernelspec": {
   "display_name": "Python 3 (ipykernel)",
   "language": "python",
   "name": "python3"
  },
  "language_info": {
   "codemirror_mode": {
    "name": "ipython",
    "version": 3
   },
   "file_extension": ".py",
   "mimetype": "text/x-python",
   "name": "python",
   "nbconvert_exporter": "python",
   "pygments_lexer": "ipython3",
   "version": "3.10.12"
  }
 },
 "nbformat": 4,
 "nbformat_minor": 5
}
