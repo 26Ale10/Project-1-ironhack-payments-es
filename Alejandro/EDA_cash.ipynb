{
 "cells": [
  {
   "cell_type": "markdown",
   "metadata": {},
   "source": [
    "## Importamos las librerias ## "
   ]
  },
  {
   "cell_type": "code",
   "execution_count": 9,
   "metadata": {},
   "outputs": [],
   "source": [
    "import pandas as pd\n",
    "import matplotlib.pyplot as plt\n",
    "import seaborn as sns"
   ]
  },
  {
   "cell_type": "code",
   "execution_count": 10,
   "metadata": {},
   "outputs": [],
   "source": [
    "cash_original = pd.read_csv(\"extract - cash request - data analyst.csv\")\n",
    "cash = cash_original.copy()"
   ]
  },
  {
   "cell_type": "code",
   "execution_count": 39,
   "metadata": {},
   "outputs": [],
   "source": [
    "fees_original = pd.read_csv(\"extract - fees - data analyst - .csv\")\n",
    "fees = fees_original.copy()"
   ]
  },
  {
   "cell_type": "code",
   "execution_count": 11,
   "metadata": {},
   "outputs": [
    {
     "name": "stdout",
     "output_type": "stream",
     "text": [
      "<class 'pandas.core.frame.DataFrame'>\n",
      "RangeIndex: 23970 entries, 0 to 23969\n",
      "Data columns (total 16 columns):\n",
      " #   Column                      Non-Null Count  Dtype  \n",
      "---  ------                      --------------  -----  \n",
      " 0   id                          23970 non-null  int64  \n",
      " 1   amount                      23970 non-null  float64\n",
      " 2   status                      23970 non-null  object \n",
      " 3   created_at                  23970 non-null  object \n",
      " 4   updated_at                  23970 non-null  object \n",
      " 5   user_id                     21867 non-null  float64\n",
      " 6   moderated_at                16035 non-null  object \n",
      " 7   deleted_account_id          2104 non-null   float64\n",
      " 8   reimbursement_date          23970 non-null  object \n",
      " 9   cash_request_received_date  16289 non-null  object \n",
      " 10  money_back_date             16543 non-null  object \n",
      " 11  transfer_type               23970 non-null  object \n",
      " 12  send_at                     16641 non-null  object \n",
      " 13  recovery_status             3330 non-null   object \n",
      " 14  reco_creation               3330 non-null   object \n",
      " 15  reco_last_update            3330 non-null   object \n",
      "dtypes: float64(3), int64(1), object(12)\n",
      "memory usage: 2.9+ MB\n"
     ]
    },
    {
     "data": {
      "text/plain": [
       "id                                0\n",
       "amount                            0\n",
       "status                            0\n",
       "created_at                        0\n",
       "updated_at                        0\n",
       "user_id                        2103\n",
       "moderated_at                   7935\n",
       "deleted_account_id            21866\n",
       "reimbursement_date                0\n",
       "cash_request_received_date     7681\n",
       "money_back_date                7427\n",
       "transfer_type                     0\n",
       "send_at                        7329\n",
       "recovery_status               20640\n",
       "reco_creation                 20640\n",
       "reco_last_update              20640\n",
       "dtype: int64"
      ]
     },
     "execution_count": 11,
     "metadata": {},
     "output_type": "execute_result"
    }
   ],
   "source": [
    "cash.info()\n",
    "cash.isnull().sum()"
   ]
  },
  {
   "cell_type": "code",
   "execution_count": 12,
   "metadata": {},
   "outputs": [
    {
     "data": {
      "text/html": [
       "<div>\n",
       "<style scoped>\n",
       "    .dataframe tbody tr th:only-of-type {\n",
       "        vertical-align: middle;\n",
       "    }\n",
       "\n",
       "    .dataframe tbody tr th {\n",
       "        vertical-align: top;\n",
       "    }\n",
       "\n",
       "    .dataframe thead th {\n",
       "        text-align: right;\n",
       "    }\n",
       "</style>\n",
       "<table border=\"1\" class=\"dataframe\">\n",
       "  <thead>\n",
       "    <tr style=\"text-align: right;\">\n",
       "      <th></th>\n",
       "      <th>id</th>\n",
       "      <th>amount</th>\n",
       "      <th>user_id</th>\n",
       "      <th>deleted_account_id</th>\n",
       "    </tr>\n",
       "  </thead>\n",
       "  <tbody>\n",
       "    <tr>\n",
       "      <th>count</th>\n",
       "      <td>23970.000000</td>\n",
       "      <td>23970.000000</td>\n",
       "      <td>21867.000000</td>\n",
       "      <td>2104.000000</td>\n",
       "    </tr>\n",
       "    <tr>\n",
       "      <th>mean</th>\n",
       "      <td>13910.966124</td>\n",
       "      <td>82.720818</td>\n",
       "      <td>32581.250789</td>\n",
       "      <td>9658.755228</td>\n",
       "    </tr>\n",
       "    <tr>\n",
       "      <th>std</th>\n",
       "      <td>7788.117214</td>\n",
       "      <td>26.528065</td>\n",
       "      <td>27618.565773</td>\n",
       "      <td>7972.743249</td>\n",
       "    </tr>\n",
       "    <tr>\n",
       "      <th>min</th>\n",
       "      <td>3.000000</td>\n",
       "      <td>1.000000</td>\n",
       "      <td>34.000000</td>\n",
       "      <td>91.000000</td>\n",
       "    </tr>\n",
       "    <tr>\n",
       "      <th>25%</th>\n",
       "      <td>7427.250000</td>\n",
       "      <td>50.000000</td>\n",
       "      <td>10804.000000</td>\n",
       "      <td>3767.000000</td>\n",
       "    </tr>\n",
       "    <tr>\n",
       "      <th>50%</th>\n",
       "      <td>14270.500000</td>\n",
       "      <td>100.000000</td>\n",
       "      <td>23773.000000</td>\n",
       "      <td>6121.500000</td>\n",
       "    </tr>\n",
       "    <tr>\n",
       "      <th>75%</th>\n",
       "      <td>20607.750000</td>\n",
       "      <td>100.000000</td>\n",
       "      <td>46965.000000</td>\n",
       "      <td>16345.000000</td>\n",
       "    </tr>\n",
       "    <tr>\n",
       "      <th>max</th>\n",
       "      <td>27010.000000</td>\n",
       "      <td>200.000000</td>\n",
       "      <td>103719.000000</td>\n",
       "      <td>30445.000000</td>\n",
       "    </tr>\n",
       "  </tbody>\n",
       "</table>\n",
       "</div>"
      ],
      "text/plain": [
       "                 id        amount        user_id  deleted_account_id\n",
       "count  23970.000000  23970.000000   21867.000000         2104.000000\n",
       "mean   13910.966124     82.720818   32581.250789         9658.755228\n",
       "std     7788.117214     26.528065   27618.565773         7972.743249\n",
       "min        3.000000      1.000000      34.000000           91.000000\n",
       "25%     7427.250000     50.000000   10804.000000         3767.000000\n",
       "50%    14270.500000    100.000000   23773.000000         6121.500000\n",
       "75%    20607.750000    100.000000   46965.000000        16345.000000\n",
       "max    27010.000000    200.000000  103719.000000        30445.000000"
      ]
     },
     "execution_count": 12,
     "metadata": {},
     "output_type": "execute_result"
    }
   ],
   "source": [
    "cash.describe()"
   ]
  },
  {
   "cell_type": "code",
   "execution_count": 13,
   "metadata": {},
   "outputs": [
    {
     "data": {
      "text/html": [
       "<div>\n",
       "<style scoped>\n",
       "    .dataframe tbody tr th:only-of-type {\n",
       "        vertical-align: middle;\n",
       "    }\n",
       "\n",
       "    .dataframe tbody tr th {\n",
       "        vertical-align: top;\n",
       "    }\n",
       "\n",
       "    .dataframe thead th {\n",
       "        text-align: right;\n",
       "    }\n",
       "</style>\n",
       "<table border=\"1\" class=\"dataframe\">\n",
       "  <thead>\n",
       "    <tr style=\"text-align: right;\">\n",
       "      <th></th>\n",
       "      <th>id</th>\n",
       "      <th>amount</th>\n",
       "      <th>status</th>\n",
       "      <th>created_at</th>\n",
       "      <th>updated_at</th>\n",
       "      <th>user_id</th>\n",
       "      <th>moderated_at</th>\n",
       "      <th>deleted_account_id</th>\n",
       "      <th>reimbursement_date</th>\n",
       "      <th>cash_request_received_date</th>\n",
       "      <th>money_back_date</th>\n",
       "      <th>transfer_type</th>\n",
       "      <th>send_at</th>\n",
       "      <th>recovery_status</th>\n",
       "      <th>reco_creation</th>\n",
       "      <th>reco_last_update</th>\n",
       "    </tr>\n",
       "  </thead>\n",
       "  <tbody>\n",
       "    <tr>\n",
       "      <th>0</th>\n",
       "      <td>5</td>\n",
       "      <td>100.0</td>\n",
       "      <td>rejected</td>\n",
       "      <td>2019-12-10 19:05:21.596873+00</td>\n",
       "      <td>2019-12-11 16:47:42.40783+00</td>\n",
       "      <td>804.0</td>\n",
       "      <td>2019-12-11 16:47:42.405646+00</td>\n",
       "      <td>NaN</td>\n",
       "      <td>2020-01-09 19:05:21.596363+00</td>\n",
       "      <td>NaN</td>\n",
       "      <td>NaN</td>\n",
       "      <td>regular</td>\n",
       "      <td>NaN</td>\n",
       "      <td>NaN</td>\n",
       "      <td>NaN</td>\n",
       "      <td>NaN</td>\n",
       "    </tr>\n",
       "    <tr>\n",
       "      <th>1</th>\n",
       "      <td>70</td>\n",
       "      <td>100.0</td>\n",
       "      <td>rejected</td>\n",
       "      <td>2019-12-10 19:50:12.34778+00</td>\n",
       "      <td>2019-12-11 14:24:22.900054+00</td>\n",
       "      <td>231.0</td>\n",
       "      <td>2019-12-11 14:24:22.897988+00</td>\n",
       "      <td>NaN</td>\n",
       "      <td>2020-01-09 19:50:12.34778+00</td>\n",
       "      <td>NaN</td>\n",
       "      <td>NaN</td>\n",
       "      <td>regular</td>\n",
       "      <td>NaN</td>\n",
       "      <td>NaN</td>\n",
       "      <td>NaN</td>\n",
       "      <td>NaN</td>\n",
       "    </tr>\n",
       "    <tr>\n",
       "      <th>2</th>\n",
       "      <td>7</td>\n",
       "      <td>100.0</td>\n",
       "      <td>rejected</td>\n",
       "      <td>2019-12-10 19:13:35.82546+00</td>\n",
       "      <td>2019-12-11 09:46:59.779773+00</td>\n",
       "      <td>191.0</td>\n",
       "      <td>2019-12-11 09:46:59.777728+00</td>\n",
       "      <td>NaN</td>\n",
       "      <td>2020-01-09 19:13:35.825041+00</td>\n",
       "      <td>NaN</td>\n",
       "      <td>NaN</td>\n",
       "      <td>regular</td>\n",
       "      <td>NaN</td>\n",
       "      <td>NaN</td>\n",
       "      <td>NaN</td>\n",
       "      <td>NaN</td>\n",
       "    </tr>\n",
       "    <tr>\n",
       "      <th>3</th>\n",
       "      <td>10</td>\n",
       "      <td>99.0</td>\n",
       "      <td>rejected</td>\n",
       "      <td>2019-12-10 19:16:10.880172+00</td>\n",
       "      <td>2019-12-18 14:26:18.136163+00</td>\n",
       "      <td>761.0</td>\n",
       "      <td>2019-12-18 14:26:18.128407+00</td>\n",
       "      <td>NaN</td>\n",
       "      <td>2020-01-09 19:16:10.879606+00</td>\n",
       "      <td>NaN</td>\n",
       "      <td>NaN</td>\n",
       "      <td>regular</td>\n",
       "      <td>NaN</td>\n",
       "      <td>NaN</td>\n",
       "      <td>NaN</td>\n",
       "      <td>NaN</td>\n",
       "    </tr>\n",
       "    <tr>\n",
       "      <th>4</th>\n",
       "      <td>1594</td>\n",
       "      <td>100.0</td>\n",
       "      <td>rejected</td>\n",
       "      <td>2020-05-06 09:59:38.877376+00</td>\n",
       "      <td>2020-05-07 09:21:55.34008+00</td>\n",
       "      <td>7686.0</td>\n",
       "      <td>2020-05-07 09:21:55.320193+00</td>\n",
       "      <td>NaN</td>\n",
       "      <td>2020-06-05 22:00:00+00</td>\n",
       "      <td>NaN</td>\n",
       "      <td>NaN</td>\n",
       "      <td>regular</td>\n",
       "      <td>NaN</td>\n",
       "      <td>NaN</td>\n",
       "      <td>NaN</td>\n",
       "      <td>NaN</td>\n",
       "    </tr>\n",
       "  </tbody>\n",
       "</table>\n",
       "</div>"
      ],
      "text/plain": [
       "     id  amount    status                     created_at  \\\n",
       "0     5   100.0  rejected  2019-12-10 19:05:21.596873+00   \n",
       "1    70   100.0  rejected   2019-12-10 19:50:12.34778+00   \n",
       "2     7   100.0  rejected   2019-12-10 19:13:35.82546+00   \n",
       "3    10    99.0  rejected  2019-12-10 19:16:10.880172+00   \n",
       "4  1594   100.0  rejected  2020-05-06 09:59:38.877376+00   \n",
       "\n",
       "                      updated_at  user_id                   moderated_at  \\\n",
       "0   2019-12-11 16:47:42.40783+00    804.0  2019-12-11 16:47:42.405646+00   \n",
       "1  2019-12-11 14:24:22.900054+00    231.0  2019-12-11 14:24:22.897988+00   \n",
       "2  2019-12-11 09:46:59.779773+00    191.0  2019-12-11 09:46:59.777728+00   \n",
       "3  2019-12-18 14:26:18.136163+00    761.0  2019-12-18 14:26:18.128407+00   \n",
       "4   2020-05-07 09:21:55.34008+00   7686.0  2020-05-07 09:21:55.320193+00   \n",
       "\n",
       "   deleted_account_id             reimbursement_date  \\\n",
       "0                 NaN  2020-01-09 19:05:21.596363+00   \n",
       "1                 NaN   2020-01-09 19:50:12.34778+00   \n",
       "2                 NaN  2020-01-09 19:13:35.825041+00   \n",
       "3                 NaN  2020-01-09 19:16:10.879606+00   \n",
       "4                 NaN         2020-06-05 22:00:00+00   \n",
       "\n",
       "  cash_request_received_date money_back_date transfer_type send_at  \\\n",
       "0                        NaN             NaN       regular     NaN   \n",
       "1                        NaN             NaN       regular     NaN   \n",
       "2                        NaN             NaN       regular     NaN   \n",
       "3                        NaN             NaN       regular     NaN   \n",
       "4                        NaN             NaN       regular     NaN   \n",
       "\n",
       "  recovery_status reco_creation reco_last_update  \n",
       "0             NaN           NaN              NaN  \n",
       "1             NaN           NaN              NaN  \n",
       "2             NaN           NaN              NaN  \n",
       "3             NaN           NaN              NaN  \n",
       "4             NaN           NaN              NaN  "
      ]
     },
     "execution_count": 13,
     "metadata": {},
     "output_type": "execute_result"
    }
   ],
   "source": [
    "cash.head()"
   ]
  },
  {
   "cell_type": "code",
   "execution_count": 36,
   "metadata": {},
   "outputs": [
    {
     "data": {
      "text/plain": [
       "id                                                       13072\n",
       "amount                                                    50.0\n",
       "status                                              money_back\n",
       "created_at                    2020-08-19 12:10:19.845244+00:00\n",
       "updated_at                    2020-12-18 13:09:41.910619+00:00\n",
       "user_id                                                20421.0\n",
       "moderated_at                  2020-08-19 12:42:54.306478+00:00\n",
       "deleted_account_id                                         NaN\n",
       "reimbursement_date                   2020-09-07 22:00:00+00:00\n",
       "cash_request_received_date                          2020-08-20\n",
       "money_back_date                  2020-11-27 09:55:55.744445+00\n",
       "transfer_type                                          instant\n",
       "send_at                       2020-08-26 12:10:19.781950+00:00\n",
       "recovery_status                                      completed\n",
       "reco_creation                    2020-09-09 20:50:55.614924+00\n",
       "reco_last_update                  2020-11-27 09:55:55.76516+00\n",
       "Name: 13126, dtype: object"
      ]
     },
     "execution_count": 36,
     "metadata": {},
     "output_type": "execute_result"
    }
   ],
   "source": [
    "cash.iloc[13126]"
   ]
  },
  {
   "cell_type": "code",
   "execution_count": 37,
   "metadata": {},
   "outputs": [],
   "source": [
    "cash['created_at'] = pd.to_datetime(cash['created_at'])\n",
    "cash['updated_at'] = pd.to_datetime(cash['updated_at'])\n",
    "cash['moderated_at'] = pd.to_datetime(cash['moderated_at'],unit='ns')\n",
    "cash['reimbursement_date'] = pd.to_datetime(cash['reimbursement_date'],unit='ns')\n",
    "cash['cash_request_received_date'] = pd.to_datetime(cash['cash_request_received_date'],unit='ns')\n",
    "cash['money_back_date'] = pd.to_datetime(cash['money_back_date'],unit='ns')\n",
    "cash['send_at'] = pd.to_datetime(cash['send_at'],unit='ns')\n",
    "cash['reco_creation'] = pd.to_datetime(cash['reco_creation'],unit='ns')\n",
    "cash['reco_last_update'] = pd.to_datetime(cash['reco_last_update'],unit='ns')"
   ]
  },
  {
   "cell_type": "code",
   "execution_count": 38,
   "metadata": {},
   "outputs": [
    {
     "name": "stdout",
     "output_type": "stream",
     "text": [
      "<class 'pandas.core.frame.DataFrame'>\n",
      "RangeIndex: 23970 entries, 0 to 23969\n",
      "Data columns (total 16 columns):\n",
      " #   Column                      Non-Null Count  Dtype              \n",
      "---  ------                      --------------  -----              \n",
      " 0   id                          23970 non-null  int64              \n",
      " 1   amount                      23970 non-null  float64            \n",
      " 2   status                      23970 non-null  object             \n",
      " 3   created_at                  23970 non-null  datetime64[ns, UTC]\n",
      " 4   updated_at                  23970 non-null  datetime64[ns, UTC]\n",
      " 5   user_id                     21867 non-null  float64            \n",
      " 6   moderated_at                16035 non-null  datetime64[ns, UTC]\n",
      " 7   deleted_account_id          2104 non-null   float64            \n",
      " 8   reimbursement_date          23970 non-null  datetime64[ns, UTC]\n",
      " 9   cash_request_received_date  16289 non-null  datetime64[ns]     \n",
      " 10  money_back_date             16543 non-null  datetime64[ns, UTC]\n",
      " 11  transfer_type               23970 non-null  object             \n",
      " 12  send_at                     16641 non-null  datetime64[ns, UTC]\n",
      " 13  recovery_status             3330 non-null   object             \n",
      " 14  reco_creation               3330 non-null   datetime64[ns, UTC]\n",
      " 15  reco_last_update            3330 non-null   datetime64[ns, UTC]\n",
      "dtypes: datetime64[ns, UTC](8), datetime64[ns](1), float64(3), int64(1), object(3)\n",
      "memory usage: 2.9+ MB\n"
     ]
    },
    {
     "data": {
      "text/html": [
       "<div>\n",
       "<style scoped>\n",
       "    .dataframe tbody tr th:only-of-type {\n",
       "        vertical-align: middle;\n",
       "    }\n",
       "\n",
       "    .dataframe tbody tr th {\n",
       "        vertical-align: top;\n",
       "    }\n",
       "\n",
       "    .dataframe thead th {\n",
       "        text-align: right;\n",
       "    }\n",
       "</style>\n",
       "<table border=\"1\" class=\"dataframe\">\n",
       "  <thead>\n",
       "    <tr style=\"text-align: right;\">\n",
       "      <th></th>\n",
       "      <th>id</th>\n",
       "      <th>amount</th>\n",
       "      <th>status</th>\n",
       "      <th>created_at</th>\n",
       "      <th>updated_at</th>\n",
       "      <th>user_id</th>\n",
       "      <th>moderated_at</th>\n",
       "      <th>deleted_account_id</th>\n",
       "      <th>reimbursement_date</th>\n",
       "      <th>cash_request_received_date</th>\n",
       "      <th>money_back_date</th>\n",
       "      <th>transfer_type</th>\n",
       "      <th>send_at</th>\n",
       "      <th>recovery_status</th>\n",
       "      <th>reco_creation</th>\n",
       "      <th>reco_last_update</th>\n",
       "    </tr>\n",
       "  </thead>\n",
       "  <tbody>\n",
       "    <tr>\n",
       "      <th>0</th>\n",
       "      <td>5</td>\n",
       "      <td>100.0</td>\n",
       "      <td>rejected</td>\n",
       "      <td>2019-12-10 19:05:21.596873+00:00</td>\n",
       "      <td>2019-12-11 16:47:42.407830+00:00</td>\n",
       "      <td>804.0</td>\n",
       "      <td>2019-12-11 16:47:42.405646+00:00</td>\n",
       "      <td>NaN</td>\n",
       "      <td>2020-01-09 19:05:21.596363+00:00</td>\n",
       "      <td>NaT</td>\n",
       "      <td>NaT</td>\n",
       "      <td>regular</td>\n",
       "      <td>NaT</td>\n",
       "      <td>NaN</td>\n",
       "      <td>NaT</td>\n",
       "      <td>NaT</td>\n",
       "    </tr>\n",
       "    <tr>\n",
       "      <th>1</th>\n",
       "      <td>70</td>\n",
       "      <td>100.0</td>\n",
       "      <td>rejected</td>\n",
       "      <td>2019-12-10 19:50:12.347780+00:00</td>\n",
       "      <td>2019-12-11 14:24:22.900054+00:00</td>\n",
       "      <td>231.0</td>\n",
       "      <td>2019-12-11 14:24:22.897988+00:00</td>\n",
       "      <td>NaN</td>\n",
       "      <td>2020-01-09 19:50:12.347780+00:00</td>\n",
       "      <td>NaT</td>\n",
       "      <td>NaT</td>\n",
       "      <td>regular</td>\n",
       "      <td>NaT</td>\n",
       "      <td>NaN</td>\n",
       "      <td>NaT</td>\n",
       "      <td>NaT</td>\n",
       "    </tr>\n",
       "    <tr>\n",
       "      <th>2</th>\n",
       "      <td>7</td>\n",
       "      <td>100.0</td>\n",
       "      <td>rejected</td>\n",
       "      <td>2019-12-10 19:13:35.825460+00:00</td>\n",
       "      <td>2019-12-11 09:46:59.779773+00:00</td>\n",
       "      <td>191.0</td>\n",
       "      <td>2019-12-11 09:46:59.777728+00:00</td>\n",
       "      <td>NaN</td>\n",
       "      <td>2020-01-09 19:13:35.825041+00:00</td>\n",
       "      <td>NaT</td>\n",
       "      <td>NaT</td>\n",
       "      <td>regular</td>\n",
       "      <td>NaT</td>\n",
       "      <td>NaN</td>\n",
       "      <td>NaT</td>\n",
       "      <td>NaT</td>\n",
       "    </tr>\n",
       "    <tr>\n",
       "      <th>3</th>\n",
       "      <td>10</td>\n",
       "      <td>99.0</td>\n",
       "      <td>rejected</td>\n",
       "      <td>2019-12-10 19:16:10.880172+00:00</td>\n",
       "      <td>2019-12-18 14:26:18.136163+00:00</td>\n",
       "      <td>761.0</td>\n",
       "      <td>2019-12-18 14:26:18.128407+00:00</td>\n",
       "      <td>NaN</td>\n",
       "      <td>2020-01-09 19:16:10.879606+00:00</td>\n",
       "      <td>NaT</td>\n",
       "      <td>NaT</td>\n",
       "      <td>regular</td>\n",
       "      <td>NaT</td>\n",
       "      <td>NaN</td>\n",
       "      <td>NaT</td>\n",
       "      <td>NaT</td>\n",
       "    </tr>\n",
       "    <tr>\n",
       "      <th>4</th>\n",
       "      <td>1594</td>\n",
       "      <td>100.0</td>\n",
       "      <td>rejected</td>\n",
       "      <td>2020-05-06 09:59:38.877376+00:00</td>\n",
       "      <td>2020-05-07 09:21:55.340080+00:00</td>\n",
       "      <td>7686.0</td>\n",
       "      <td>2020-05-07 09:21:55.320193+00:00</td>\n",
       "      <td>NaN</td>\n",
       "      <td>2020-06-05 22:00:00+00:00</td>\n",
       "      <td>NaT</td>\n",
       "      <td>NaT</td>\n",
       "      <td>regular</td>\n",
       "      <td>NaT</td>\n",
       "      <td>NaN</td>\n",
       "      <td>NaT</td>\n",
       "      <td>NaT</td>\n",
       "    </tr>\n",
       "  </tbody>\n",
       "</table>\n",
       "</div>"
      ],
      "text/plain": [
       "     id  amount    status                       created_at  \\\n",
       "0     5   100.0  rejected 2019-12-10 19:05:21.596873+00:00   \n",
       "1    70   100.0  rejected 2019-12-10 19:50:12.347780+00:00   \n",
       "2     7   100.0  rejected 2019-12-10 19:13:35.825460+00:00   \n",
       "3    10    99.0  rejected 2019-12-10 19:16:10.880172+00:00   \n",
       "4  1594   100.0  rejected 2020-05-06 09:59:38.877376+00:00   \n",
       "\n",
       "                        updated_at  user_id                     moderated_at  \\\n",
       "0 2019-12-11 16:47:42.407830+00:00    804.0 2019-12-11 16:47:42.405646+00:00   \n",
       "1 2019-12-11 14:24:22.900054+00:00    231.0 2019-12-11 14:24:22.897988+00:00   \n",
       "2 2019-12-11 09:46:59.779773+00:00    191.0 2019-12-11 09:46:59.777728+00:00   \n",
       "3 2019-12-18 14:26:18.136163+00:00    761.0 2019-12-18 14:26:18.128407+00:00   \n",
       "4 2020-05-07 09:21:55.340080+00:00   7686.0 2020-05-07 09:21:55.320193+00:00   \n",
       "\n",
       "   deleted_account_id               reimbursement_date  \\\n",
       "0                 NaN 2020-01-09 19:05:21.596363+00:00   \n",
       "1                 NaN 2020-01-09 19:50:12.347780+00:00   \n",
       "2                 NaN 2020-01-09 19:13:35.825041+00:00   \n",
       "3                 NaN 2020-01-09 19:16:10.879606+00:00   \n",
       "4                 NaN        2020-06-05 22:00:00+00:00   \n",
       "\n",
       "  cash_request_received_date money_back_date transfer_type send_at  \\\n",
       "0                        NaT             NaT       regular     NaT   \n",
       "1                        NaT             NaT       regular     NaT   \n",
       "2                        NaT             NaT       regular     NaT   \n",
       "3                        NaT             NaT       regular     NaT   \n",
       "4                        NaT             NaT       regular     NaT   \n",
       "\n",
       "  recovery_status reco_creation reco_last_update  \n",
       "0             NaN           NaT              NaT  \n",
       "1             NaN           NaT              NaT  \n",
       "2             NaN           NaT              NaT  \n",
       "3             NaN           NaT              NaT  \n",
       "4             NaN           NaT              NaT  "
      ]
     },
     "execution_count": 38,
     "metadata": {},
     "output_type": "execute_result"
    }
   ],
   "source": [
    "cash.info()\n",
    "cash.head()"
   ]
  },
  {
   "cell_type": "code",
   "execution_count": 40,
   "metadata": {},
   "outputs": [
    {
     "name": "stdout",
     "output_type": "stream",
     "text": [
      "<class 'pandas.core.frame.DataFrame'>\n",
      "RangeIndex: 21061 entries, 0 to 21060\n",
      "Data columns (total 13 columns):\n",
      " #   Column           Non-Null Count  Dtype  \n",
      "---  ------           --------------  -----  \n",
      " 0   id               21061 non-null  int64  \n",
      " 1   cash_request_id  21057 non-null  float64\n",
      " 2   type             21061 non-null  object \n",
      " 3   status           21061 non-null  object \n",
      " 4   category         2196 non-null   object \n",
      " 5   total_amount     21061 non-null  float64\n",
      " 6   reason           21061 non-null  object \n",
      " 7   created_at       21061 non-null  object \n",
      " 8   updated_at       21061 non-null  object \n",
      " 9   paid_at          15531 non-null  object \n",
      " 10  from_date        7766 non-null   object \n",
      " 11  to_date          7766 non-null   object \n",
      " 12  charge_moment    21061 non-null  object \n",
      "dtypes: float64(2), int64(1), object(10)\n",
      "memory usage: 2.1+ MB\n"
     ]
    },
    {
     "data": {
      "text/html": [
       "<div>\n",
       "<style scoped>\n",
       "    .dataframe tbody tr th:only-of-type {\n",
       "        vertical-align: middle;\n",
       "    }\n",
       "\n",
       "    .dataframe tbody tr th {\n",
       "        vertical-align: top;\n",
       "    }\n",
       "\n",
       "    .dataframe thead th {\n",
       "        text-align: right;\n",
       "    }\n",
       "</style>\n",
       "<table border=\"1\" class=\"dataframe\">\n",
       "  <thead>\n",
       "    <tr style=\"text-align: right;\">\n",
       "      <th></th>\n",
       "      <th>id</th>\n",
       "      <th>cash_request_id</th>\n",
       "      <th>total_amount</th>\n",
       "    </tr>\n",
       "  </thead>\n",
       "  <tbody>\n",
       "    <tr>\n",
       "      <th>count</th>\n",
       "      <td>21061.000000</td>\n",
       "      <td>21057.000000</td>\n",
       "      <td>21061.000000</td>\n",
       "    </tr>\n",
       "    <tr>\n",
       "      <th>mean</th>\n",
       "      <td>10645.355111</td>\n",
       "      <td>16318.449162</td>\n",
       "      <td>5.000237</td>\n",
       "    </tr>\n",
       "    <tr>\n",
       "      <th>std</th>\n",
       "      <td>6099.315256</td>\n",
       "      <td>6656.149949</td>\n",
       "      <td>0.034453</td>\n",
       "    </tr>\n",
       "    <tr>\n",
       "      <th>min</th>\n",
       "      <td>1.000000</td>\n",
       "      <td>1456.000000</td>\n",
       "      <td>5.000000</td>\n",
       "    </tr>\n",
       "    <tr>\n",
       "      <th>25%</th>\n",
       "      <td>5385.000000</td>\n",
       "      <td>11745.000000</td>\n",
       "      <td>5.000000</td>\n",
       "    </tr>\n",
       "    <tr>\n",
       "      <th>50%</th>\n",
       "      <td>10652.000000</td>\n",
       "      <td>17160.000000</td>\n",
       "      <td>5.000000</td>\n",
       "    </tr>\n",
       "    <tr>\n",
       "      <th>75%</th>\n",
       "      <td>15925.000000</td>\n",
       "      <td>21796.000000</td>\n",
       "      <td>5.000000</td>\n",
       "    </tr>\n",
       "    <tr>\n",
       "      <th>max</th>\n",
       "      <td>21193.000000</td>\n",
       "      <td>27010.000000</td>\n",
       "      <td>10.000000</td>\n",
       "    </tr>\n",
       "  </tbody>\n",
       "</table>\n",
       "</div>"
      ],
      "text/plain": [
       "                 id  cash_request_id  total_amount\n",
       "count  21061.000000     21057.000000  21061.000000\n",
       "mean   10645.355111     16318.449162      5.000237\n",
       "std     6099.315256      6656.149949      0.034453\n",
       "min        1.000000      1456.000000      5.000000\n",
       "25%     5385.000000     11745.000000      5.000000\n",
       "50%    10652.000000     17160.000000      5.000000\n",
       "75%    15925.000000     21796.000000      5.000000\n",
       "max    21193.000000     27010.000000     10.000000"
      ]
     },
     "execution_count": 40,
     "metadata": {},
     "output_type": "execute_result"
    }
   ],
   "source": [
    "fees.info()\n",
    "fees.describe()"
   ]
  },
  {
   "cell_type": "code",
   "execution_count": 41,
   "metadata": {},
   "outputs": [],
   "source": [
    "fees['created_at'] = pd.to_datetime(fees['created_at'])\n",
    "fees['updated_at'] = pd.to_datetime(fees['updated_at'])\n",
    "fees['paid_at'] = pd.to_datetime(fees['paid_at'],unit='ns')\n",
    "fees['from_date'] = pd.to_datetime(fees['from_date'],unit='ns')\n",
    "fees['to_date'] = pd.to_datetime(fees['to_date'],unit='ns')"
   ]
  },
  {
   "cell_type": "code",
   "execution_count": 42,
   "metadata": {},
   "outputs": [
    {
     "name": "stdout",
     "output_type": "stream",
     "text": [
      "<class 'pandas.core.frame.DataFrame'>\n",
      "RangeIndex: 21061 entries, 0 to 21060\n",
      "Data columns (total 13 columns):\n",
      " #   Column           Non-Null Count  Dtype              \n",
      "---  ------           --------------  -----              \n",
      " 0   id               21061 non-null  int64              \n",
      " 1   cash_request_id  21057 non-null  float64            \n",
      " 2   type             21061 non-null  object             \n",
      " 3   status           21061 non-null  object             \n",
      " 4   category         2196 non-null   object             \n",
      " 5   total_amount     21061 non-null  float64            \n",
      " 6   reason           21061 non-null  object             \n",
      " 7   created_at       21061 non-null  datetime64[ns, UTC]\n",
      " 8   updated_at       21061 non-null  datetime64[ns, UTC]\n",
      " 9   paid_at          15531 non-null  datetime64[ns, UTC]\n",
      " 10  from_date        7766 non-null   datetime64[ns, UTC]\n",
      " 11  to_date          7766 non-null   datetime64[ns, UTC]\n",
      " 12  charge_moment    21061 non-null  object             \n",
      "dtypes: datetime64[ns, UTC](5), float64(2), int64(1), object(5)\n",
      "memory usage: 2.1+ MB\n"
     ]
    },
    {
     "data": {
      "text/html": [
       "<div>\n",
       "<style scoped>\n",
       "    .dataframe tbody tr th:only-of-type {\n",
       "        vertical-align: middle;\n",
       "    }\n",
       "\n",
       "    .dataframe tbody tr th {\n",
       "        vertical-align: top;\n",
       "    }\n",
       "\n",
       "    .dataframe thead th {\n",
       "        text-align: right;\n",
       "    }\n",
       "</style>\n",
       "<table border=\"1\" class=\"dataframe\">\n",
       "  <thead>\n",
       "    <tr style=\"text-align: right;\">\n",
       "      <th></th>\n",
       "      <th>id</th>\n",
       "      <th>cash_request_id</th>\n",
       "      <th>type</th>\n",
       "      <th>status</th>\n",
       "      <th>category</th>\n",
       "      <th>total_amount</th>\n",
       "      <th>reason</th>\n",
       "      <th>created_at</th>\n",
       "      <th>updated_at</th>\n",
       "      <th>paid_at</th>\n",
       "      <th>from_date</th>\n",
       "      <th>to_date</th>\n",
       "      <th>charge_moment</th>\n",
       "    </tr>\n",
       "  </thead>\n",
       "  <tbody>\n",
       "    <tr>\n",
       "      <th>0</th>\n",
       "      <td>6537</td>\n",
       "      <td>14941.0</td>\n",
       "      <td>instant_payment</td>\n",
       "      <td>rejected</td>\n",
       "      <td>NaN</td>\n",
       "      <td>5.0</td>\n",
       "      <td>Instant Payment Cash Request 14941</td>\n",
       "      <td>2020-09-07 10:47:27.423150+00:00</td>\n",
       "      <td>2020-10-13 14:25:09.396112+00:00</td>\n",
       "      <td>2020-12-17 14:50:07.470110+00:00</td>\n",
       "      <td>NaT</td>\n",
       "      <td>NaT</td>\n",
       "      <td>after</td>\n",
       "    </tr>\n",
       "    <tr>\n",
       "      <th>1</th>\n",
       "      <td>6961</td>\n",
       "      <td>11714.0</td>\n",
       "      <td>incident</td>\n",
       "      <td>accepted</td>\n",
       "      <td>rejected_direct_debit</td>\n",
       "      <td>5.0</td>\n",
       "      <td>rejected direct debit</td>\n",
       "      <td>2020-09-09 20:51:17.998653+00:00</td>\n",
       "      <td>2020-10-13 14:25:15.537063+00:00</td>\n",
       "      <td>2020-12-08 17:13:10.459080+00:00</td>\n",
       "      <td>NaT</td>\n",
       "      <td>NaT</td>\n",
       "      <td>after</td>\n",
       "    </tr>\n",
       "    <tr>\n",
       "      <th>2</th>\n",
       "      <td>16296</td>\n",
       "      <td>23371.0</td>\n",
       "      <td>instant_payment</td>\n",
       "      <td>accepted</td>\n",
       "      <td>NaN</td>\n",
       "      <td>5.0</td>\n",
       "      <td>Instant Payment Cash Request 23371</td>\n",
       "      <td>2020-10-23 10:10:58.352972+00:00</td>\n",
       "      <td>2020-10-23 10:10:58.352994+00:00</td>\n",
       "      <td>2020-11-04 19:34:37.432910+00:00</td>\n",
       "      <td>NaT</td>\n",
       "      <td>NaT</td>\n",
       "      <td>after</td>\n",
       "    </tr>\n",
       "    <tr>\n",
       "      <th>3</th>\n",
       "      <td>20775</td>\n",
       "      <td>26772.0</td>\n",
       "      <td>instant_payment</td>\n",
       "      <td>accepted</td>\n",
       "      <td>NaN</td>\n",
       "      <td>5.0</td>\n",
       "      <td>Instant Payment Cash Request 26772</td>\n",
       "      <td>2020-10-31 15:46:53.643958+00:00</td>\n",
       "      <td>2020-10-31 15:46:53.643982+00:00</td>\n",
       "      <td>2020-11-19 05:09:22.500223+00:00</td>\n",
       "      <td>NaT</td>\n",
       "      <td>NaT</td>\n",
       "      <td>after</td>\n",
       "    </tr>\n",
       "    <tr>\n",
       "      <th>4</th>\n",
       "      <td>11242</td>\n",
       "      <td>19350.0</td>\n",
       "      <td>instant_payment</td>\n",
       "      <td>accepted</td>\n",
       "      <td>NaN</td>\n",
       "      <td>5.0</td>\n",
       "      <td>Instant Payment Cash Request 19350</td>\n",
       "      <td>2020-10-06 08:20:17.170432+00:00</td>\n",
       "      <td>2020-10-13 14:25:03.267983+00:00</td>\n",
       "      <td>2020-11-02 14:45:20.355598+00:00</td>\n",
       "      <td>NaT</td>\n",
       "      <td>NaT</td>\n",
       "      <td>after</td>\n",
       "    </tr>\n",
       "  </tbody>\n",
       "</table>\n",
       "</div>"
      ],
      "text/plain": [
       "      id  cash_request_id             type    status               category  \\\n",
       "0   6537          14941.0  instant_payment  rejected                    NaN   \n",
       "1   6961          11714.0         incident  accepted  rejected_direct_debit   \n",
       "2  16296          23371.0  instant_payment  accepted                    NaN   \n",
       "3  20775          26772.0  instant_payment  accepted                    NaN   \n",
       "4  11242          19350.0  instant_payment  accepted                    NaN   \n",
       "\n",
       "   total_amount                              reason  \\\n",
       "0           5.0  Instant Payment Cash Request 14941   \n",
       "1           5.0               rejected direct debit   \n",
       "2           5.0  Instant Payment Cash Request 23371   \n",
       "3           5.0  Instant Payment Cash Request 26772   \n",
       "4           5.0  Instant Payment Cash Request 19350   \n",
       "\n",
       "                        created_at                       updated_at  \\\n",
       "0 2020-09-07 10:47:27.423150+00:00 2020-10-13 14:25:09.396112+00:00   \n",
       "1 2020-09-09 20:51:17.998653+00:00 2020-10-13 14:25:15.537063+00:00   \n",
       "2 2020-10-23 10:10:58.352972+00:00 2020-10-23 10:10:58.352994+00:00   \n",
       "3 2020-10-31 15:46:53.643958+00:00 2020-10-31 15:46:53.643982+00:00   \n",
       "4 2020-10-06 08:20:17.170432+00:00 2020-10-13 14:25:03.267983+00:00   \n",
       "\n",
       "                           paid_at from_date to_date charge_moment  \n",
       "0 2020-12-17 14:50:07.470110+00:00       NaT     NaT         after  \n",
       "1 2020-12-08 17:13:10.459080+00:00       NaT     NaT         after  \n",
       "2 2020-11-04 19:34:37.432910+00:00       NaT     NaT         after  \n",
       "3 2020-11-19 05:09:22.500223+00:00       NaT     NaT         after  \n",
       "4 2020-11-02 14:45:20.355598+00:00       NaT     NaT         after  "
      ]
     },
     "execution_count": 42,
     "metadata": {},
     "output_type": "execute_result"
    }
   ],
   "source": [
    "fees.info()\n",
    "fees.head()"
   ]
  },
  {
   "cell_type": "code",
   "execution_count": 58,
   "metadata": {},
   "outputs": [
    {
     "name": "stdout",
     "output_type": "stream",
     "text": [
      "Estos son los nulos del df fees:\n",
      " id                     0\n",
      "cash_request_id        4\n",
      "type                   0\n",
      "status                 0\n",
      "category           18865\n",
      "total_amount           0\n",
      "reason                 0\n",
      "created_at             0\n",
      "updated_at             0\n",
      "paid_at             5530\n",
      "from_date          13295\n",
      "to_date            13295\n",
      "charge_moment          0\n",
      "dtype: int64\n"
     ]
    }
   ],
   "source": [
    "print('Estos son los nulos del df fees:\\n',fees.isnull().sum())"
   ]
  },
  {
   "cell_type": "code",
   "execution_count": 59,
   "metadata": {},
   "outputs": [
    {
     "name": "stdout",
     "output_type": "stream",
     "text": [
      "Estos son los nulos del df Cash:\n",
      " id                                0\n",
      "amount                            0\n",
      "status                            0\n",
      "created_at                        0\n",
      "updated_at                        0\n",
      "user_id                        2103\n",
      "moderated_at                   7935\n",
      "deleted_account_id            21866\n",
      "reimbursement_date                0\n",
      "cash_request_received_date     7681\n",
      "money_back_date                7427\n",
      "transfer_type                     0\n",
      "send_at                        7329\n",
      "recovery_status               20640\n",
      "reco_creation                 20640\n",
      "reco_last_update              20640\n",
      "dtype: int64\n"
     ]
    }
   ],
   "source": [
    "print('Estos son los nulos del df Cash:\\n',cash.isnull().sum())"
   ]
  },
  {
   "cell_type": "code",
   "execution_count": null,
   "metadata": {},
   "outputs": [],
   "source": []
  },
  {
   "cell_type": "code",
   "execution_count": 79,
   "metadata": {},
   "outputs": [
    {
     "name": "stdout",
     "output_type": "stream",
     "text": [
      "23970\n",
      "23970\n",
      "21061\n",
      "12934\n"
     ]
    }
   ],
   "source": [
    "print(len(cash['id']))\n",
    "print(len(cash['id'].unique()))\n",
    "print(len(fees['cash_request_id']))\n",
    "print(len(fees['cash_request_id'].unique()))\n",
    "\n"
   ]
  },
  {
   "cell_type": "code",
   "execution_count": 106,
   "metadata": {},
   "outputs": [
    {
     "name": "stdout",
     "output_type": "stream",
     "text": [
      "[100.  99.  90.   1.  70.  25.  50.  20.  60.  80.  30.  10.  40. 150.\n",
      "  98. 200.  85.  65.  95.  31.  75.  72.  22.  67.  94.  45.  55.  35.\n",
      "  97.  28.  86.   8.  15.  39.   2.  11.  49.   5.  36.  54.  24.]\n"
     ]
    }
   ],
   "source": [
    "print(cash['amount'].unique())"
   ]
  },
  {
   "cell_type": "code",
   "execution_count": 107,
   "metadata": {},
   "outputs": [
    {
     "data": {
      "text/html": [
       "<div>\n",
       "<style scoped>\n",
       "    .dataframe tbody tr th:only-of-type {\n",
       "        vertical-align: middle;\n",
       "    }\n",
       "\n",
       "    .dataframe tbody tr th {\n",
       "        vertical-align: top;\n",
       "    }\n",
       "\n",
       "    .dataframe thead th {\n",
       "        text-align: right;\n",
       "    }\n",
       "</style>\n",
       "<table border=\"1\" class=\"dataframe\">\n",
       "  <thead>\n",
       "    <tr style=\"text-align: right;\">\n",
       "      <th></th>\n",
       "      <th>id</th>\n",
       "      <th>amount</th>\n",
       "      <th>created_at</th>\n",
       "      <th>updated_at</th>\n",
       "      <th>user_id</th>\n",
       "      <th>moderated_at</th>\n",
       "      <th>deleted_account_id</th>\n",
       "      <th>reimbursement_date</th>\n",
       "      <th>cash_request_received_date</th>\n",
       "      <th>money_back_date</th>\n",
       "      <th>transfer_type</th>\n",
       "      <th>send_at</th>\n",
       "      <th>recovery_status</th>\n",
       "      <th>reco_creation</th>\n",
       "      <th>reco_last_update</th>\n",
       "    </tr>\n",
       "    <tr>\n",
       "      <th>status</th>\n",
       "      <th></th>\n",
       "      <th></th>\n",
       "      <th></th>\n",
       "      <th></th>\n",
       "      <th></th>\n",
       "      <th></th>\n",
       "      <th></th>\n",
       "      <th></th>\n",
       "      <th></th>\n",
       "      <th></th>\n",
       "      <th></th>\n",
       "      <th></th>\n",
       "      <th></th>\n",
       "      <th></th>\n",
       "      <th></th>\n",
       "    </tr>\n",
       "  </thead>\n",
       "  <tbody>\n",
       "    <tr>\n",
       "      <th>active</th>\n",
       "      <td>59</td>\n",
       "      <td>59</td>\n",
       "      <td>59</td>\n",
       "      <td>59</td>\n",
       "      <td>59</td>\n",
       "      <td>26</td>\n",
       "      <td>0</td>\n",
       "      <td>59</td>\n",
       "      <td>56</td>\n",
       "      <td>15</td>\n",
       "      <td>59</td>\n",
       "      <td>44</td>\n",
       "      <td>33</td>\n",
       "      <td>33</td>\n",
       "      <td>33</td>\n",
       "    </tr>\n",
       "    <tr>\n",
       "      <th>canceled</th>\n",
       "      <td>33</td>\n",
       "      <td>33</td>\n",
       "      <td>33</td>\n",
       "      <td>33</td>\n",
       "      <td>7</td>\n",
       "      <td>3</td>\n",
       "      <td>26</td>\n",
       "      <td>33</td>\n",
       "      <td>1</td>\n",
       "      <td>1</td>\n",
       "      <td>33</td>\n",
       "      <td>18</td>\n",
       "      <td>0</td>\n",
       "      <td>0</td>\n",
       "      <td>0</td>\n",
       "    </tr>\n",
       "    <tr>\n",
       "      <th>direct_debit_rejected</th>\n",
       "      <td>831</td>\n",
       "      <td>831</td>\n",
       "      <td>831</td>\n",
       "      <td>831</td>\n",
       "      <td>815</td>\n",
       "      <td>459</td>\n",
       "      <td>16</td>\n",
       "      <td>831</td>\n",
       "      <td>789</td>\n",
       "      <td>314</td>\n",
       "      <td>831</td>\n",
       "      <td>626</td>\n",
       "      <td>820</td>\n",
       "      <td>820</td>\n",
       "      <td>820</td>\n",
       "    </tr>\n",
       "    <tr>\n",
       "      <th>direct_debit_sent</th>\n",
       "      <td>34</td>\n",
       "      <td>34</td>\n",
       "      <td>34</td>\n",
       "      <td>34</td>\n",
       "      <td>34</td>\n",
       "      <td>15</td>\n",
       "      <td>0</td>\n",
       "      <td>34</td>\n",
       "      <td>34</td>\n",
       "      <td>4</td>\n",
       "      <td>34</td>\n",
       "      <td>31</td>\n",
       "      <td>16</td>\n",
       "      <td>16</td>\n",
       "      <td>16</td>\n",
       "    </tr>\n",
       "    <tr>\n",
       "      <th>money_back</th>\n",
       "      <td>16397</td>\n",
       "      <td>16397</td>\n",
       "      <td>16397</td>\n",
       "      <td>16397</td>\n",
       "      <td>15683</td>\n",
       "      <td>8965</td>\n",
       "      <td>715</td>\n",
       "      <td>16397</td>\n",
       "      <td>15408</td>\n",
       "      <td>16207</td>\n",
       "      <td>16397</td>\n",
       "      <td>12012</td>\n",
       "      <td>2460</td>\n",
       "      <td>2460</td>\n",
       "      <td>2460</td>\n",
       "    </tr>\n",
       "    <tr>\n",
       "      <th>rejected</th>\n",
       "      <td>6568</td>\n",
       "      <td>6568</td>\n",
       "      <td>6568</td>\n",
       "      <td>6568</td>\n",
       "      <td>5221</td>\n",
       "      <td>6566</td>\n",
       "      <td>1347</td>\n",
       "      <td>6568</td>\n",
       "      <td>1</td>\n",
       "      <td>0</td>\n",
       "      <td>6568</td>\n",
       "      <td>3862</td>\n",
       "      <td>0</td>\n",
       "      <td>0</td>\n",
       "      <td>0</td>\n",
       "    </tr>\n",
       "    <tr>\n",
       "      <th>transaction_declined</th>\n",
       "      <td>48</td>\n",
       "      <td>48</td>\n",
       "      <td>48</td>\n",
       "      <td>48</td>\n",
       "      <td>48</td>\n",
       "      <td>1</td>\n",
       "      <td>0</td>\n",
       "      <td>48</td>\n",
       "      <td>0</td>\n",
       "      <td>2</td>\n",
       "      <td>48</td>\n",
       "      <td>48</td>\n",
       "      <td>1</td>\n",
       "      <td>1</td>\n",
       "      <td>1</td>\n",
       "    </tr>\n",
       "  </tbody>\n",
       "</table>\n",
       "</div>"
      ],
      "text/plain": [
       "                          id  amount  created_at  updated_at  user_id  \\\n",
       "status                                                                  \n",
       "active                    59      59          59          59       59   \n",
       "canceled                  33      33          33          33        7   \n",
       "direct_debit_rejected    831     831         831         831      815   \n",
       "direct_debit_sent         34      34          34          34       34   \n",
       "money_back             16397   16397       16397       16397    15683   \n",
       "rejected                6568    6568        6568        6568     5221   \n",
       "transaction_declined      48      48          48          48       48   \n",
       "\n",
       "                       moderated_at  deleted_account_id  reimbursement_date  \\\n",
       "status                                                                        \n",
       "active                           26                   0                  59   \n",
       "canceled                          3                  26                  33   \n",
       "direct_debit_rejected           459                  16                 831   \n",
       "direct_debit_sent                15                   0                  34   \n",
       "money_back                     8965                 715               16397   \n",
       "rejected                       6566                1347                6568   \n",
       "transaction_declined              1                   0                  48   \n",
       "\n",
       "                       cash_request_received_date  money_back_date  \\\n",
       "status                                                               \n",
       "active                                         56               15   \n",
       "canceled                                        1                1   \n",
       "direct_debit_rejected                         789              314   \n",
       "direct_debit_sent                              34                4   \n",
       "money_back                                  15408            16207   \n",
       "rejected                                        1                0   \n",
       "transaction_declined                            0                2   \n",
       "\n",
       "                       transfer_type  send_at  recovery_status  reco_creation  \\\n",
       "status                                                                          \n",
       "active                            59       44               33             33   \n",
       "canceled                          33       18                0              0   \n",
       "direct_debit_rejected            831      626              820            820   \n",
       "direct_debit_sent                 34       31               16             16   \n",
       "money_back                     16397    12012             2460           2460   \n",
       "rejected                        6568     3862                0              0   \n",
       "transaction_declined              48       48                1              1   \n",
       "\n",
       "                       reco_last_update  \n",
       "status                                   \n",
       "active                               33  \n",
       "canceled                              0  \n",
       "direct_debit_rejected               820  \n",
       "direct_debit_sent                    16  \n",
       "money_back                         2460  \n",
       "rejected                              0  \n",
       "transaction_declined                  1  "
      ]
     },
     "execution_count": 107,
     "metadata": {},
     "output_type": "execute_result"
    }
   ],
   "source": [
    "cash.groupby(\"status\").agg('count')"
   ]
  },
  {
   "cell_type": "code",
   "execution_count": 142,
   "metadata": {},
   "outputs": [
    {
     "name": "stderr",
     "output_type": "stream",
     "text": [
      "C:\\Users\\Aleja\\AppData\\Local\\Temp\\ipykernel_1980\\3913285782.py:1: UserWarning: Converting to PeriodArray/Index representation will drop timezone information.\n",
      "  cash.groupby(cash['updated_at'].dt.to_period(\"M\"))['amount'].count()\n"
     ]
    },
    {
     "data": {
      "text/plain": [
       "updated_at\n",
       "2019-12       94\n",
       "2020-01       96\n",
       "2020-02       78\n",
       "2020-03       96\n",
       "2020-04      177\n",
       "2020-05      273\n",
       "2020-06     1342\n",
       "2020-07     1659\n",
       "2020-08     1467\n",
       "2020-09     1483\n",
       "2020-10      635\n",
       "2020-11     1124\n",
       "2020-12    14935\n",
       "2021-01      373\n",
       "2021-02      138\n",
       "Freq: M, Name: amount, dtype: int64"
      ]
     },
     "execution_count": 142,
     "metadata": {},
     "output_type": "execute_result"
    }
   ],
   "source": [
    "cash.groupby(cash['updated_at'].dt.to_period(\"M\"))['amount'].count()"
   ]
  },
  {
   "cell_type": "code",
   "execution_count": 95,
   "metadata": {},
   "outputs": [
    {
     "data": {
      "text/html": [
       "<div>\n",
       "<style scoped>\n",
       "    .dataframe tbody tr th:only-of-type {\n",
       "        vertical-align: middle;\n",
       "    }\n",
       "\n",
       "    .dataframe tbody tr th {\n",
       "        vertical-align: top;\n",
       "    }\n",
       "\n",
       "    .dataframe thead th {\n",
       "        text-align: right;\n",
       "    }\n",
       "</style>\n",
       "<table border=\"1\" class=\"dataframe\">\n",
       "  <thead>\n",
       "    <tr style=\"text-align: right;\">\n",
       "      <th></th>\n",
       "      <th>id</th>\n",
       "      <th>amount</th>\n",
       "      <th>status</th>\n",
       "      <th>created_at</th>\n",
       "      <th>updated_at</th>\n",
       "      <th>user_id</th>\n",
       "      <th>moderated_at</th>\n",
       "      <th>deleted_account_id</th>\n",
       "      <th>reimbursement_date</th>\n",
       "      <th>cash_request_received_date</th>\n",
       "      <th>money_back_date</th>\n",
       "      <th>send_at</th>\n",
       "      <th>recovery_status</th>\n",
       "      <th>reco_creation</th>\n",
       "      <th>reco_last_update</th>\n",
       "    </tr>\n",
       "    <tr>\n",
       "      <th>transfer_type</th>\n",
       "      <th></th>\n",
       "      <th></th>\n",
       "      <th></th>\n",
       "      <th></th>\n",
       "      <th></th>\n",
       "      <th></th>\n",
       "      <th></th>\n",
       "      <th></th>\n",
       "      <th></th>\n",
       "      <th></th>\n",
       "      <th></th>\n",
       "      <th></th>\n",
       "      <th></th>\n",
       "      <th></th>\n",
       "      <th></th>\n",
       "    </tr>\n",
       "  </thead>\n",
       "  <tbody>\n",
       "    <tr>\n",
       "      <th>instant</th>\n",
       "      <td>13882</td>\n",
       "      <td>13882</td>\n",
       "      <td>13882</td>\n",
       "      <td>13882</td>\n",
       "      <td>13882</td>\n",
       "      <td>13076</td>\n",
       "      <td>6582</td>\n",
       "      <td>806</td>\n",
       "      <td>13882</td>\n",
       "      <td>10134</td>\n",
       "      <td>10626</td>\n",
       "      <td>13878</td>\n",
       "      <td>2190</td>\n",
       "      <td>2190</td>\n",
       "      <td>2190</td>\n",
       "    </tr>\n",
       "    <tr>\n",
       "      <th>regular</th>\n",
       "      <td>10088</td>\n",
       "      <td>10088</td>\n",
       "      <td>10088</td>\n",
       "      <td>10088</td>\n",
       "      <td>10088</td>\n",
       "      <td>8791</td>\n",
       "      <td>9453</td>\n",
       "      <td>1298</td>\n",
       "      <td>10088</td>\n",
       "      <td>6155</td>\n",
       "      <td>5917</td>\n",
       "      <td>2763</td>\n",
       "      <td>1140</td>\n",
       "      <td>1140</td>\n",
       "      <td>1140</td>\n",
       "    </tr>\n",
       "  </tbody>\n",
       "</table>\n",
       "</div>"
      ],
      "text/plain": [
       "                  id  amount  status  created_at  updated_at  user_id  \\\n",
       "transfer_type                                                           \n",
       "instant        13882   13882   13882       13882       13882    13076   \n",
       "regular        10088   10088   10088       10088       10088     8791   \n",
       "\n",
       "               moderated_at  deleted_account_id  reimbursement_date  \\\n",
       "transfer_type                                                         \n",
       "instant                6582                 806               13882   \n",
       "regular                9453                1298               10088   \n",
       "\n",
       "               cash_request_received_date  money_back_date  send_at  \\\n",
       "transfer_type                                                         \n",
       "instant                             10134            10626    13878   \n",
       "regular                              6155             5917     2763   \n",
       "\n",
       "               recovery_status  reco_creation  reco_last_update  \n",
       "transfer_type                                                    \n",
       "instant                   2190           2190              2190  \n",
       "regular                   1140           1140              1140  "
      ]
     },
     "execution_count": 95,
     "metadata": {},
     "output_type": "execute_result"
    }
   ],
   "source": [
    "cash.groupby('transfer_type').agg('count')"
   ]
  },
  {
   "cell_type": "code",
   "execution_count": 85,
   "metadata": {},
   "outputs": [
    {
     "data": {
      "text/html": [
       "<div>\n",
       "<style scoped>\n",
       "    .dataframe tbody tr th:only-of-type {\n",
       "        vertical-align: middle;\n",
       "    }\n",
       "\n",
       "    .dataframe tbody tr th {\n",
       "        vertical-align: top;\n",
       "    }\n",
       "\n",
       "    .dataframe thead th {\n",
       "        text-align: right;\n",
       "    }\n",
       "</style>\n",
       "<table border=\"1\" class=\"dataframe\">\n",
       "  <thead>\n",
       "    <tr style=\"text-align: right;\">\n",
       "      <th></th>\n",
       "      <th>id</th>\n",
       "      <th>cash_request_id</th>\n",
       "      <th>type</th>\n",
       "      <th>category</th>\n",
       "      <th>total_amount</th>\n",
       "      <th>reason</th>\n",
       "      <th>created_at</th>\n",
       "      <th>updated_at</th>\n",
       "      <th>paid_at</th>\n",
       "      <th>from_date</th>\n",
       "      <th>to_date</th>\n",
       "      <th>charge_moment</th>\n",
       "    </tr>\n",
       "    <tr>\n",
       "      <th>status</th>\n",
       "      <th></th>\n",
       "      <th></th>\n",
       "      <th></th>\n",
       "      <th></th>\n",
       "      <th></th>\n",
       "      <th></th>\n",
       "      <th></th>\n",
       "      <th></th>\n",
       "      <th></th>\n",
       "      <th></th>\n",
       "      <th></th>\n",
       "      <th></th>\n",
       "    </tr>\n",
       "  </thead>\n",
       "  <tbody>\n",
       "    <tr>\n",
       "      <th>accepted</th>\n",
       "      <td>14841</td>\n",
       "      <td>14841</td>\n",
       "      <td>14841</td>\n",
       "      <td>1560</td>\n",
       "      <td>14841</td>\n",
       "      <td>14841</td>\n",
       "      <td>14841</td>\n",
       "      <td>14841</td>\n",
       "      <td>14523</td>\n",
       "      <td>2985</td>\n",
       "      <td>2985</td>\n",
       "      <td>14841</td>\n",
       "    </tr>\n",
       "    <tr>\n",
       "      <th>cancelled</th>\n",
       "      <td>4938</td>\n",
       "      <td>4934</td>\n",
       "      <td>4938</td>\n",
       "      <td>97</td>\n",
       "      <td>4938</td>\n",
       "      <td>4938</td>\n",
       "      <td>4938</td>\n",
       "      <td>4938</td>\n",
       "      <td>90</td>\n",
       "      <td>4780</td>\n",
       "      <td>4780</td>\n",
       "      <td>4938</td>\n",
       "    </tr>\n",
       "    <tr>\n",
       "      <th>confirmed</th>\n",
       "      <td>88</td>\n",
       "      <td>88</td>\n",
       "      <td>88</td>\n",
       "      <td>19</td>\n",
       "      <td>88</td>\n",
       "      <td>88</td>\n",
       "      <td>88</td>\n",
       "      <td>88</td>\n",
       "      <td>2</td>\n",
       "      <td>0</td>\n",
       "      <td>0</td>\n",
       "      <td>88</td>\n",
       "    </tr>\n",
       "    <tr>\n",
       "      <th>rejected</th>\n",
       "      <td>1194</td>\n",
       "      <td>1194</td>\n",
       "      <td>1194</td>\n",
       "      <td>520</td>\n",
       "      <td>1194</td>\n",
       "      <td>1194</td>\n",
       "      <td>1194</td>\n",
       "      <td>1194</td>\n",
       "      <td>916</td>\n",
       "      <td>1</td>\n",
       "      <td>1</td>\n",
       "      <td>1194</td>\n",
       "    </tr>\n",
       "  </tbody>\n",
       "</table>\n",
       "</div>"
      ],
      "text/plain": [
       "              id  cash_request_id   type  category  total_amount  reason  \\\n",
       "status                                                                     \n",
       "accepted   14841            14841  14841      1560         14841   14841   \n",
       "cancelled   4938             4934   4938        97          4938    4938   \n",
       "confirmed     88               88     88        19            88      88   \n",
       "rejected    1194             1194   1194       520          1194    1194   \n",
       "\n",
       "           created_at  updated_at  paid_at  from_date  to_date  charge_moment  \n",
       "status                                                                         \n",
       "accepted        14841       14841    14523       2985     2985          14841  \n",
       "cancelled        4938        4938       90       4780     4780           4938  \n",
       "confirmed          88          88        2          0        0             88  \n",
       "rejected         1194        1194      916          1        1           1194  "
      ]
     },
     "execution_count": 85,
     "metadata": {},
     "output_type": "execute_result"
    }
   ],
   "source": [
    "fees.groupby(\"status\").agg('count')"
   ]
  },
  {
   "cell_type": "markdown",
   "metadata": {},
   "source": [
    "## Gráficos ##"
   ]
  },
  {
   "cell_type": "code",
   "execution_count": 119,
   "metadata": {},
   "outputs": [
    {
     "data": {
      "text/plain": [
       "Text(0.5, 1.0, 'Recuento de transacciones por estado')"
      ]
     },
     "execution_count": 119,
     "metadata": {},
     "output_type": "execute_result"
    },
    {
     "data": {
      "image/png": "[encoded data removed]",
      "text/plain": [
       "<Figure size 640x480 with 1 Axes>"
      ]
     },
     "metadata": {},
     "output_type": "display_data"
    }
   ],
   "source": [
    "sns.countplot(x=cash['status'], palette='tab10')\n",
    "plt.xlabel('Estado')  # Etiqueta del eje X\n",
    "plt.ylabel('Recuento')  # Etiqueta del eje Y\n",
    "plt.title('Recuento de transacciones por estado')"
   ]
  },
  {
   "cell_type": "code",
   "execution_count": 158,
   "metadata": {},
   "outputs": [
    {
     "name": "stderr",
     "output_type": "stream",
     "text": [
      "C:\\Users\\Aleja\\AppData\\Local\\Temp\\ipykernel_1980\\515139168.py:1: UserWarning: Converting to PeriodArray/Index representation will drop timezone information.\n",
      "  monthly_sales = cash.groupby(cash['updated_at'].dt.to_period(\"M\"))['amount'].count()\n"
     ]
    },
    {
     "data": {
      "text/plain": [
       "Text(0.5, 0, 'Meses')"
      ]
     },
     "execution_count": 158,
     "metadata": {},
     "output_type": "execute_result"
    },
    {
     "data": {
      "image/png": "[encoded data removed]",
      "text/plain": [
       "<Figure size 640x480 with 1 Axes>"
      ]
     },
     "metadata": {},
     "output_type": "display_data"
    }
   ],
   "source": [
    "monthly_sales = cash.groupby(cash['updated_at'].dt.to_period(\"M\"))['amount'].count()\n",
    "monthly_sales.plot(kind='bar',color='salmon',title='Revisión de CR mensual')\n",
    "plt.xticks(rotation=90)\n",
    "plt.ylabel(\"Nº de solicitudes mensuales\")\n",
    "plt.xlabel(\"Meses\")"
   ]
  },
  {
   "cell_type": "code",
   "execution_count": 167,
   "metadata": {},
   "outputs": [
    {
     "data": {
      "text/plain": [
       "<Axes: xlabel='status', ylabel='count'>"
      ]
     },
     "execution_count": 167,
     "metadata": {},
     "output_type": "execute_result"
    },
    {
     "data": {
      "image/png": "[encoded data removed]",
      "text/plain": [
       "<Figure size 640x480 with 1 Axes>"
      ]
     },
     "metadata": {},
     "output_type": "display_data"
    }
   ],
   "source": [
    "sns.countplot(x=cash['status'],hue=cash['transfer_type'],orient='y')"
   ]
  },
  {
   "cell_type": "code",
   "execution_count": 169,
   "metadata": {},
   "outputs": [
    {
     "data": {
      "text/plain": [
       "<Axes: xlabel='transfer_type', ylabel='count'>"
      ]
     },
     "execution_count": 169,
     "metadata": {},
     "output_type": "execute_result"
    },
    {
     "data": {
      "image/png": "[encoded data removed]",
      "text/plain": [
       "<Figure size 640x480 with 1 Axes>"
      ]
     },
     "metadata": {},
     "output_type": "display_data"
    }
   ],
   "source": [
    "sns.countplot(hue=cash['status'],x=cash['transfer_type'],palette='magma')"
   ]
  },
  {
   "cell_type": "code",
   "execution_count": 170,
   "metadata": {},
   "outputs": [
    {
     "name": "stderr",
     "output_type": "stream",
     "text": [
      "c:\\Users\\Aleja\\anaconda3\\Lib\\site-packages\\seaborn\\_oldcore.py:1119: FutureWarning: use_inf_as_na option is deprecated and will be removed in a future version. Convert inf values to NaN before operating instead.\n",
      "  with pd.option_context('mode.use_inf_as_na', True):\n"
     ]
    },
    {
     "data": {
      "image/png": "[encoded data removed]",
      "text/plain": [
       "<Figure size 1200x600 with 1 Axes>"
      ]
     },
     "metadata": {},
     "output_type": "display_data"
    },
    {
     "data": {
      "text/plain": [
       "<Figure size 800x400 with 0 Axes>"
      ]
     },
     "metadata": {},
     "output_type": "display_data"
    }
   ],
   "source": [
    "plt.figure(figsize=(12, 6))\n",
    "sns.histplot(cash['amount'] , bins=15, kde=True, alpha=0.5, binrange = (0,150))\n",
    "plt.title('Distribución de la Cantidad de la Solicitud de Efectivo', fontsize=16)\n",
    "plt.xlabel('Cantidad')\n",
    "plt.ylabel('Frecuencia')\n",
    "plt.xticks(fontsize=12)\n",
    "plt.yticks(fontsize=12)\n",
    "plt.xlim(0, 130)\n",
    "plt.grid(axis='y', linestyle='--', alpha=0.7)\n",
    "plt.figure(figsize=(8,4), tight_layout=True)\n",
    "plt.show()"
   ]
  },
  {
   "cell_type": "code",
   "execution_count": 172,
   "metadata": {},
   "outputs": [
    {
     "name": "stderr",
     "output_type": "stream",
     "text": [
      "C:\\Users\\Aleja\\AppData\\Local\\Temp\\ipykernel_1980\\1848294911.py:2: UserWarning: Converting to PeriodArray/Index representation will drop timezone information.\n",
      "  monthly_sales = cash.groupby(cash['updated_at'].dt.to_period(\"M\"))['amount'].count()\n"
     ]
    },
    {
     "data": {
      "image/png": "[encoded data removed]",
      "text/plain": [
       "<Figure size 1200x600 with 1 Axes>"
      ]
     },
     "metadata": {},
     "output_type": "display_data"
    }
   ],
   "source": [
    "# Group data by date to analyze trends\n",
    "monthly_sales = cash.groupby(cash['updated_at'].dt.to_period(\"M\"))['amount'].count()\n",
    "monthly_sales.plot(figsize=(12, 6))\n",
    "plt.title('Monthly')\n",
    "plt.xlabel('Month')\n",
    "plt.ylabel('Total')\n",
    "plt.show()"
   ]
  },
  {
   "cell_type": "code",
   "execution_count": 173,
   "metadata": {},
   "outputs": [
    {
     "name": "stderr",
     "output_type": "stream",
     "text": [
      "C:\\Users\\Aleja\\AppData\\Local\\Temp\\ipykernel_1980\\558665910.py:2: UserWarning: Converting to PeriodArray/Index representation will drop timezone information.\n",
      "  monthly_sales = cash.groupby(cash['created_at'].dt.to_period(\"M\"))['amount'].sum()\n"
     ]
    },
    {
     "data": {
      "image/png": "[encoded data removed]",
      "text/plain": [
       "<Figure size 1200x600 with 1 Axes>"
      ]
     },
     "metadata": {},
     "output_type": "display_data"
    }
   ],
   "source": [
    "# Group data by date to analyze trends\n",
    "monthly_sales = cash.groupby(cash['created_at'].dt.to_period(\"M\"))['amount'].sum()\n",
    "monthly_sales.plot(figsize=(12, 6))\n",
    "plt.title('Monthly')\n",
    "plt.xlabel('Month')\n",
    "plt.ylabel('Total')\n",
    "plt.show()"
   ]
  },
  {
   "cell_type": "code",
   "execution_count": 186,
   "metadata": {},
   "outputs": [
    {
     "data": {
      "image/png": "[encoded data removed]",
      "text/plain": [
       "<Figure size 640x480 with 1 Axes>"
      ]
     },
     "metadata": {},
     "output_type": "display_data"
    }
   ],
   "source": [
    "#cash.groupby(['transfer_type','status'])['status'].count().plot(kind='bar')\n",
    "cash.groupby(['amount'])['user_id'].count().plot(kind='bar')\n",
    "plt.show()"
   ]
  },
  {
   "cell_type": "code",
   "execution_count": 200,
   "metadata": {},
   "outputs": [
    {
     "data": {
      "text/plain": [
       "user_id\n",
       "34.0        100.0\n",
       "35.0         50.0\n",
       "47.0          1.0\n",
       "52.0         10.0\n",
       "53.0        100.0\n",
       "            ...  \n",
       "103425.0    100.0\n",
       "103437.0    100.0\n",
       "103496.0    100.0\n",
       "103503.0     50.0\n",
       "103719.0    100.0\n",
       "Name: amount, Length: 10798, dtype: float64"
      ]
     },
     "execution_count": 200,
     "metadata": {},
     "output_type": "execute_result"
    }
   ],
   "source": [
    "transfer_type = cash.groupby([\"user_id\"])[\"amount\"].min()\n",
    "transfer_type\n"
   ]
  },
  {
   "cell_type": "code",
   "execution_count": null,
   "metadata": {},
   "outputs": [],
   "source": [
    "amount = cash.groupby(cash['amount'].dt.to_period(\"M\"))['amount'].sum()\n"
   ]
  },
  {
   "cell_type": "code",
   "execution_count": 29,
   "metadata": {},
   "outputs": [
    {
     "data": {
      "text/plain": [
       "status\n",
       "money_back               16397\n",
       "rejected                  6568\n",
       "direct_debit_rejected      831\n",
       "active                      59\n",
       "transaction_declined        48\n",
       "direct_debit_sent           34\n",
       "canceled                    33\n",
       "Name: count, dtype: int64"
      ]
     },
     "execution_count": 29,
     "metadata": {},
     "output_type": "execute_result"
    }
   ],
   "source": [
    "cash['status'].value_counts()"
   ]
  },
  {
   "cell_type": "code",
   "execution_count": 30,
   "metadata": {},
   "outputs": [
    {
     "data": {
      "text/plain": [
       "23970"
      ]
     },
     "execution_count": 30,
     "metadata": {},
     "output_type": "execute_result"
    }
   ],
   "source": [
    "cash['status'].count()"
   ]
  },
  {
   "cell_type": "code",
   "execution_count": null,
   "metadata": {},
   "outputs": [],
   "source": []
  }
 ],
 "metadata": {
  "kernelspec": {
   "display_name": "base",
   "language": "python",
   "name": "python3"
  },
  "language_info": {
   "codemirror_mode": {
    "name": "ipython",
    "version": 3
   },
   "file_extension": ".py",
   "mimetype": "text/x-python",
   "name": "python",
   "nbconvert_exporter": "python",
   "pygments_lexer": "ipython3",
   "version": "3.11.5"
  }
 },
 "nbformat": 4,
 "nbformat_minor": 2
}
